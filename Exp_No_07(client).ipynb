{
  "cells": [
    {
      "cell_type": "markdown",
      "metadata": {
        "id": "view-in-github",
        "colab_type": "text"
      },
      "source": [
        "<a href=\"https://colab.research.google.com/github/PRATIKHM/PYTHON/blob/main/Exp_No_07(client).ipynb\" target=\"_parent\"><img src=\"https://colab.research.google.com/assets/colab-badge.svg\" alt=\"Open In Colab\"/></a>"
      ]
    },
    {
      "cell_type": "markdown",
      "id": "b9aad1cd-5a07-4c78-abb7-dc3a793bfead",
      "metadata": {
        "id": "b9aad1cd-5a07-4c78-abb7-dc3a793bfead"
      },
      "source": [
        "### PRATIK H MANKAR\n",
        "### Roll No-31\n",
        "## Exp.No-07(client)\n"
      ]
    },
    {
      "cell_type": "code",
      "execution_count": null,
      "id": "baa6e2e0-6431-4930-93d7-fe723fbc587d",
      "metadata": {
        "id": "baa6e2e0-6431-4930-93d7-fe723fbc587d",
        "outputId": "caeccf55-f580-4046-e577-99f680b1cdeb"
      },
      "outputs": [
        {
          "name": "stdout",
          "output_type": "stream",
          "text": [
            "Message Recieved\n",
            "Message Recieved\n"
          ]
        }
      ],
      "source": [
        "import socket\n",
        "\n",
        "PORT = 5050\n",
        "#SERVER = ''\n",
        "SERVER = socket.gethostbyname (socket.gethostname ())\n",
        "ADDR = (SERVER, PORT)\n",
        "FORMAT = 'utf-8'\n",
        "HEADER = 64\n",
        "DISCONNECT_MESSAGE = '!DISCONNECT'\n",
        "\n",
        "client = socket.socket (socket.AF_INET, socket.SOCK_STREAM)\n",
        "client.connect (ADDR)\n",
        "\n",
        "def send (messages):\n",
        "    message = messages.encode (FORMAT)\n",
        "    messageLength = len (message)\n",
        "    sendLength = str (messageLength).encode (FORMAT)\n",
        "    sendLength += b' ' * (HEADER - len (sendLength))\n",
        "    client.send (sendLength)\n",
        "    client.send (message)\n",
        "    print (client.recv (2045).decode (FORMAT))\n",
        "\n",
        "if __name__ == '__main__':\n",
        "    send ('Hello World')\n",
        "    send (DISCONNECT_MESSAGE)"
      ]
    },
    {
      "cell_type": "code",
      "execution_count": null,
      "id": "9c76b620-6abc-42d8-8fe4-baef6de5b454",
      "metadata": {
        "id": "9c76b620-6abc-42d8-8fe4-baef6de5b454"
      },
      "outputs": [],
      "source": []
    }
  ],
  "metadata": {
    "kernelspec": {
      "display_name": "Python 3 (ipykernel)",
      "language": "python",
      "name": "python3"
    },
    "language_info": {
      "codemirror_mode": {
        "name": "ipython",
        "version": 3
      },
      "file_extension": ".py",
      "mimetype": "text/x-python",
      "name": "python",
      "nbconvert_exporter": "python",
      "pygments_lexer": "ipython3",
      "version": "3.11.9"
    },
    "colab": {
      "provenance": [],
      "include_colab_link": true
    }
  },
  "nbformat": 4,
  "nbformat_minor": 5
}