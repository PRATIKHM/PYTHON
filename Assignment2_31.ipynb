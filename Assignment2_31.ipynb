{
  "nbformat": 4,
  "nbformat_minor": 0,
  "metadata": {
    "colab": {
      "provenance": [],
      "authorship_tag": "ABX9TyNM9nyPw/n89Qa19eY9INIs",
      "include_colab_link": true
    },
    "kernelspec": {
      "name": "python3",
      "display_name": "Python 3"
    },
    "language_info": {
      "name": "python"
    }
  },
  "cells": [
    {
      "cell_type": "markdown",
      "metadata": {
        "id": "view-in-github",
        "colab_type": "text"
      },
      "source": [
        "<a href=\"https://colab.research.google.com/github/PRATIKHM/PYTHON/blob/main/Assignment2_31.ipynb\" target=\"_parent\"><img src=\"https://colab.research.google.com/assets/colab-badge.svg\" alt=\"Open In Colab\"/></a>"
      ]
    },
    {
      "cell_type": "markdown",
      "source": [
        "#PRATIK HEMANT MANKAR\n",
        "# ROLL NO :-31"
      ],
      "metadata": {
        "id": "zVmSiRpViirg"
      }
    },
    {
      "cell_type": "markdown",
      "source": [
        "1. You are given a large log file containing various system events. Each line in the log file follows\n",
        "this format:\n",
        "[YYYY-MM-DD HH:MM:SS] [LOG_LEVEL] [MODULE] Message"
      ],
      "metadata": {
        "id": "R3G8pEV_jdvm"
      }
    },
    {
      "cell_type": "code",
      "source": [
        "import re\n",
        "\n",
        "def extract_critical_errors(log_data: str):\n",
        "    error_entries = []\n",
        "\n",
        "    log_pattern = re.compile(\n",
        "        r\"\\[(\\d{4}-\\d{2}-\\d{2} \\d{2}:\\d{2}:\\d{2})\\] \\[ERROR\\] \\[([a-zA-Z0-9_]+)\\] (.+)\"\n",
        "    )\n",
        "    ip_pattern = re.compile(r\"\\b(?:\\d{1,3}\\.){3}\\d{1,3}\\b\")\n",
        "    hex_pattern = re.compile(r\"0x[A-Fa-f0-9]{8}\")\n",
        "\n",
        "    for line in log_data.split(\"\\n\"):\n",
        "        match = log_pattern.match(line)\n",
        "        if match:\n",
        "            timestamp, module, message = match.groups()\n",
        "            if ip_pattern.search(message) and hex_pattern.search(message):\n",
        "                error_entries.append((timestamp, module, message))\n",
        "\n",
        "    return error_entries\n",
        "\n",
        "\n",
        "log_data = \"\"\"[2025-02-10 14:23:01] [INFO] [Auth_Module] User login successful.\n",
        "[2025-02-10 15:45:32] [ERROR] [Net_Module] Connection timeout from 192.168.1.10. Error Code: 0xAB12CD34\n",
        "[2025-02-10 16:01:10] [WARN] [Disk_Module] Low disk space warning.\n",
        "[2025-02-10 17:12:05] [ERROR] [Security_Module] Unauthorized access detected from 10.0.0.5. Error Code: 0xDEADBEEF\"\"\"\n",
        "\n",
        "\n",
        "critical_errors = extract_critical_errors(log_data)\n",
        "\n",
        "\n",
        "for error in critical_errors:\n",
        "    print(error)\n"
      ],
      "metadata": {
        "colab": {
          "base_uri": "https://localhost:8080/"
        },
        "id": "VP4RUNM6irI-",
        "outputId": "544c64db-2de1-4f67-ffd9-6c7ced5daa0f"
      },
      "execution_count": null,
      "outputs": [
        {
          "output_type": "stream",
          "name": "stdout",
          "text": [
            "('2025-02-10 15:45:32', 'Net_Module', 'Connection timeout from 192.168.1.10. Error Code: 0xAB12CD34')\n",
            "('2025-02-10 17:12:05', 'Security_Module', 'Unauthorized access detected from 10.0.0.5. Error Code: 0xDEADBEEF')\n"
          ]
        }
      ]
    },
    {
      "cell_type": "code",
      "execution_count": null,
      "metadata": {
        "id": "qQWuMWdvhxRU"
      },
      "outputs": [],
      "source": []
    }
  ]
}